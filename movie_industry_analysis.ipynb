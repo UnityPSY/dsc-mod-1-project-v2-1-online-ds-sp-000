{
 "cells": [
  {
   "cell_type": "markdown",
   "metadata": {},
   "source": [
    "## Final Project Submission\n",
    "\n",
    "Please fill out:\n",
    "* Student name: Chris Choi\n",
    "* Student pace: self paced\n",
    "* Scheduled project review date/time: \n",
    "* Instructor name: Jeff Herman\n",
    "* Blog post URL:\n"
   ]
  },
  {
   "cell_type": "markdown",
   "metadata": {},
   "source": [
    "# Microsoft Goes to the Movies — A Data-Driven Approach"
   ]
  },
  {
   "cell_type": "markdown",
   "metadata": {},
   "source": [
    "## Overview\n",
    "Originating in the early 20th century, the global film industry today represents one of the world's most illustrious and capital-intensive enterprises. Prior to 2020, the industry showed consistent growth; in 2019 it generated more than 42 billion US dollars. In addition to the industry's size, movies are well-known to offer substantial profit opportunities and potential return on investment.\n",
    "\n",
    "As major corporations like Microsoft seek to diversify their revenue streams in an increasingly globalized marketplace, a venture into the film industry may prove to be promising business strategy. Here, we will use a data-driven approach that incorporates the latest technologies along with proven statistical methods in order to analyze large public datasets. We will use these to generate visualizations as well as actionable insights to maximize the probability of success at the box office."
   ]
  },
  {
   "cell_type": "markdown",
   "metadata": {},
   "source": [
    "## Business Problem\n",
    "\n",
    "Given the size and complexity of the movie industry, it is important that we identify the key features shared by financially successful movies. By conducting preliminary analysis of consumer trends and patterns, we will have an easier time avoiding common costly mistakes such as releasing a potential blockbuster movie targeting the wrong audience or the wrong time of year. We will also seek to analyze the profitability of movies in addition to raw revenues.\n",
    "\n",
    "In this project, we seek to constructively pose and answer the following three questions with concrete, actionable insights:\n",
    "\n",
    "- What is the best time of year (month and season) to release a movie so as to maximize sales and ROI?\n",
    "- What are the most successful genres in terms of sales and ROI?\n",
    "- What is the ideal length of a successful movie? Are longer movies more successful than shorter movies?"
   ]
  },
  {
   "cell_type": "markdown",
   "metadata": {},
   "source": [
    "## Data Understanding\n",
    "\n",
    "A number of large and reliable datasets featuring movies can be found on the internet. We will be using data files derived from the popular website IMDb.com (Internet Movie Database) and The-Numbers.com to conduct our analysis. These data files provide the titles, release date, production budgets, domestic and global sales, and other relevant figures for thousands of movies released over decades."
   ]
  },
  {
   "cell_type": "code",
   "execution_count": 1,
   "metadata": {},
   "outputs": [],
   "source": [
    "# Import relevant libraries\n",
    "import numpy as np\n",
    "import pandas as pd\n",
    "import matplotlib.ticker as mtick\n",
    "import matplotlib.pyplot as plt\n",
    "from matplotlib.lines import Line2D\n",
    "import seaborn as sns\n",
    "\n",
    "# Allow plots to be displayed in notebook\n",
    "%matplotlib inline"
   ]
  },
  {
   "cell_type": "code",
   "execution_count": 2,
   "metadata": {},
   "outputs": [],
   "source": [
    "# Set style parameters for graphs\n",
    "sns.set_context('poster')\n",
    "plt.style.use('fivethirtyeight')\n",
    "\n",
    "# Suppress scientific notation\n",
    "pd.set_option('display.float_format', lambda x: '%.2f' % x)"
   ]
  },
  {
   "cell_type": "code",
   "execution_count": 3,
   "metadata": {},
   "outputs": [],
   "source": [
    "# Use pandas to load .csv data into dataframes\n",
    "budgets_df = pd.read_csv('data/tn.movie_budgets.csv/tn.movie_budgets.csv', index_col='movie')\n",
    "genre_df = pd.read_csv('data/imdb.title.basics.csv/title.basics.csv', index_col='primary_title')"
   ]
  },
  {
   "cell_type": "code",
   "execution_count": 4,
   "metadata": {
    "scrolled": false
   },
   "outputs": [
    {
     "data": {
      "text/plain": [
       "<bound method DataFrame.info of                                              id  release_date  \\\n",
       "movie                                                           \n",
       "Avatar                                        1  Dec 18, 2009   \n",
       "Pirates of the Caribbean: On Stranger Tides   2  May 20, 2011   \n",
       "Dark Phoenix                                  3   Jun 7, 2019   \n",
       "Avengers: Age of Ultron                       4   May 1, 2015   \n",
       "Star Wars Ep. VIII: The Last Jedi             5  Dec 15, 2017   \n",
       "...                                          ..           ...   \n",
       "Red 11                                       78  Dec 31, 2018   \n",
       "Following                                    79   Apr 2, 1999   \n",
       "Return to the Land of Wonders                80  Jul 13, 2005   \n",
       "A Plague So Pleasant                         81  Sep 29, 2015   \n",
       "My Date With Drew                            82   Aug 5, 2005   \n",
       "\n",
       "                                            production_budget domestic_gross  \\\n",
       "movie                                                                          \n",
       "Avatar                                           $425,000,000   $760,507,625   \n",
       "Pirates of the Caribbean: On Stranger Tides      $410,600,000   $241,063,875   \n",
       "Dark Phoenix                                     $350,000,000    $42,762,350   \n",
       "Avengers: Age of Ultron                          $330,600,000   $459,005,868   \n",
       "Star Wars Ep. VIII: The Last Jedi                $317,000,000   $620,181,382   \n",
       "...                                                       ...            ...   \n",
       "Red 11                                                 $7,000             $0   \n",
       "Following                                              $6,000        $48,482   \n",
       "Return to the Land of Wonders                          $5,000         $1,338   \n",
       "A Plague So Pleasant                                   $1,400             $0   \n",
       "My Date With Drew                                      $1,100       $181,041   \n",
       "\n",
       "                                            worldwide_gross  \n",
       "movie                                                        \n",
       "Avatar                                       $2,776,345,279  \n",
       "Pirates of the Caribbean: On Stranger Tides  $1,045,663,875  \n",
       "Dark Phoenix                                   $149,762,350  \n",
       "Avengers: Age of Ultron                      $1,403,013,963  \n",
       "Star Wars Ep. VIII: The Last Jedi            $1,316,721,747  \n",
       "...                                                     ...  \n",
       "Red 11                                                   $0  \n",
       "Following                                          $240,495  \n",
       "Return to the Land of Wonders                        $1,338  \n",
       "A Plague So Pleasant                                     $0  \n",
       "My Date With Drew                                  $181,041  \n",
       "\n",
       "[5782 rows x 5 columns]>"
      ]
     },
     "execution_count": 4,
     "metadata": {},
     "output_type": "execute_result"
    }
   ],
   "source": [
    "budgets_df.info"
   ]
  },
  {
   "cell_type": "code",
   "execution_count": 5,
   "metadata": {},
   "outputs": [
    {
     "data": {
      "text/plain": [
       "<bound method DataFrame.info of                                                 tconst  \\\n",
       "primary_title                                            \n",
       "Sunghursh                                    tt0063540   \n",
       "One Day Before the Rainy Season              tt0066787   \n",
       "The Other Side of the Wind                   tt0069049   \n",
       "Sabse Bada Sukh                              tt0069204   \n",
       "The Wandering Soap Opera                     tt0100275   \n",
       "...                                                ...   \n",
       "Kuambil Lagi Hatiku                          tt9916538   \n",
       "Rodolpho Teóphilo - O Legado de um Pioneiro  tt9916622   \n",
       "Dankyavar Danka                              tt9916706   \n",
       "6 Gunn                                       tt9916730   \n",
       "Chico Albuquerque - Revelações               tt9916754   \n",
       "\n",
       "                                                                          original_title  \\\n",
       "primary_title                                                                              \n",
       "Sunghursh                                                                      Sunghursh   \n",
       "One Day Before the Rainy Season                                          Ashad Ka Ek Din   \n",
       "The Other Side of the Wind                                    The Other Side of the Wind   \n",
       "Sabse Bada Sukh                                                          Sabse Bada Sukh   \n",
       "The Wandering Soap Opera                                           La Telenovela Errante   \n",
       "...                                                                                  ...   \n",
       "Kuambil Lagi Hatiku                                                  Kuambil Lagi Hatiku   \n",
       "Rodolpho Teóphilo - O Legado de um Pioneiro  Rodolpho Teóphilo - O Legado de um Pioneiro   \n",
       "Dankyavar Danka                                                          Dankyavar Danka   \n",
       "6 Gunn                                                                            6 Gunn   \n",
       "Chico Albuquerque - Revelações                            Chico Albuquerque - Revelações   \n",
       "\n",
       "                                             start_year  runtime_minutes  \\\n",
       "primary_title                                                              \n",
       "Sunghursh                                          2013           175.00   \n",
       "One Day Before the Rainy Season                    2019           114.00   \n",
       "The Other Side of the Wind                         2018           122.00   \n",
       "Sabse Bada Sukh                                    2018              nan   \n",
       "The Wandering Soap Opera                           2017            80.00   \n",
       "...                                                 ...              ...   \n",
       "Kuambil Lagi Hatiku                                2019           123.00   \n",
       "Rodolpho Teóphilo - O Legado de um Pioneiro        2015              nan   \n",
       "Dankyavar Danka                                    2013              nan   \n",
       "6 Gunn                                             2017           116.00   \n",
       "Chico Albuquerque - Revelações                     2013              nan   \n",
       "\n",
       "                                                           genres  \n",
       "primary_title                                                      \n",
       "Sunghursh                                      Action,Crime,Drama  \n",
       "One Day Before the Rainy Season                   Biography,Drama  \n",
       "The Other Side of the Wind                                  Drama  \n",
       "Sabse Bada Sukh                                      Comedy,Drama  \n",
       "The Wandering Soap Opera                     Comedy,Drama,Fantasy  \n",
       "...                                                           ...  \n",
       "Kuambil Lagi Hatiku                                         Drama  \n",
       "Rodolpho Teóphilo - O Legado de um Pioneiro           Documentary  \n",
       "Dankyavar Danka                                            Comedy  \n",
       "6 Gunn                                                        NaN  \n",
       "Chico Albuquerque - Revelações                        Documentary  \n",
       "\n",
       "[146144 rows x 5 columns]>"
      ]
     },
     "execution_count": 5,
     "metadata": {},
     "output_type": "execute_result"
    }
   ],
   "source": [
    "genre_df.info"
   ]
  },
  {
   "cell_type": "markdown",
   "metadata": {},
   "source": [
    "### The-Numbers Dataset\n",
    "\n",
    "The-Numbers dataset includes records from 2015 to 2020. It records the title, release date, production budget, and domestic and worldwide gross figures. It is imported as budgets_df."
   ]
  },
  {
   "cell_type": "code",
   "execution_count": 6,
   "metadata": {},
   "outputs": [
    {
     "data": {
      "text/html": [
       "<div>\n",
       "<style scoped>\n",
       "    .dataframe tbody tr th:only-of-type {\n",
       "        vertical-align: middle;\n",
       "    }\n",
       "\n",
       "    .dataframe tbody tr th {\n",
       "        vertical-align: top;\n",
       "    }\n",
       "\n",
       "    .dataframe thead th {\n",
       "        text-align: right;\n",
       "    }\n",
       "</style>\n",
       "<table border=\"1\" class=\"dataframe\">\n",
       "  <thead>\n",
       "    <tr style=\"text-align: right;\">\n",
       "      <th></th>\n",
       "      <th>id</th>\n",
       "      <th>release_date</th>\n",
       "      <th>production_budget</th>\n",
       "      <th>domestic_gross</th>\n",
       "      <th>worldwide_gross</th>\n",
       "    </tr>\n",
       "    <tr>\n",
       "      <th>movie</th>\n",
       "      <th></th>\n",
       "      <th></th>\n",
       "      <th></th>\n",
       "      <th></th>\n",
       "      <th></th>\n",
       "    </tr>\n",
       "  </thead>\n",
       "  <tbody>\n",
       "    <tr>\n",
       "      <th>Avatar</th>\n",
       "      <td>1</td>\n",
       "      <td>Dec 18, 2009</td>\n",
       "      <td>$425,000,000</td>\n",
       "      <td>$760,507,625</td>\n",
       "      <td>$2,776,345,279</td>\n",
       "    </tr>\n",
       "    <tr>\n",
       "      <th>Pirates of the Caribbean: On Stranger Tides</th>\n",
       "      <td>2</td>\n",
       "      <td>May 20, 2011</td>\n",
       "      <td>$410,600,000</td>\n",
       "      <td>$241,063,875</td>\n",
       "      <td>$1,045,663,875</td>\n",
       "    </tr>\n",
       "    <tr>\n",
       "      <th>Dark Phoenix</th>\n",
       "      <td>3</td>\n",
       "      <td>Jun 7, 2019</td>\n",
       "      <td>$350,000,000</td>\n",
       "      <td>$42,762,350</td>\n",
       "      <td>$149,762,350</td>\n",
       "    </tr>\n",
       "    <tr>\n",
       "      <th>Avengers: Age of Ultron</th>\n",
       "      <td>4</td>\n",
       "      <td>May 1, 2015</td>\n",
       "      <td>$330,600,000</td>\n",
       "      <td>$459,005,868</td>\n",
       "      <td>$1,403,013,963</td>\n",
       "    </tr>\n",
       "    <tr>\n",
       "      <th>Star Wars Ep. VIII: The Last Jedi</th>\n",
       "      <td>5</td>\n",
       "      <td>Dec 15, 2017</td>\n",
       "      <td>$317,000,000</td>\n",
       "      <td>$620,181,382</td>\n",
       "      <td>$1,316,721,747</td>\n",
       "    </tr>\n",
       "  </tbody>\n",
       "</table>\n",
       "</div>"
      ],
      "text/plain": [
       "                                             id  release_date  \\\n",
       "movie                                                           \n",
       "Avatar                                        1  Dec 18, 2009   \n",
       "Pirates of the Caribbean: On Stranger Tides   2  May 20, 2011   \n",
       "Dark Phoenix                                  3   Jun 7, 2019   \n",
       "Avengers: Age of Ultron                       4   May 1, 2015   \n",
       "Star Wars Ep. VIII: The Last Jedi             5  Dec 15, 2017   \n",
       "\n",
       "                                            production_budget domestic_gross  \\\n",
       "movie                                                                          \n",
       "Avatar                                           $425,000,000   $760,507,625   \n",
       "Pirates of the Caribbean: On Stranger Tides      $410,600,000   $241,063,875   \n",
       "Dark Phoenix                                     $350,000,000    $42,762,350   \n",
       "Avengers: Age of Ultron                          $330,600,000   $459,005,868   \n",
       "Star Wars Ep. VIII: The Last Jedi                $317,000,000   $620,181,382   \n",
       "\n",
       "                                            worldwide_gross  \n",
       "movie                                                        \n",
       "Avatar                                       $2,776,345,279  \n",
       "Pirates of the Caribbean: On Stranger Tides  $1,045,663,875  \n",
       "Dark Phoenix                                   $149,762,350  \n",
       "Avengers: Age of Ultron                      $1,403,013,963  \n",
       "Star Wars Ep. VIII: The Last Jedi            $1,316,721,747  "
      ]
     },
     "execution_count": 6,
     "metadata": {},
     "output_type": "execute_result"
    }
   ],
   "source": [
    "budgets_df.head()"
   ]
  },
  {
   "cell_type": "code",
   "execution_count": 7,
   "metadata": {},
   "outputs": [],
   "source": [
    "# Convert release dates to pandas datetime format for easier processing\n",
    "budgets_df['release_date'] = pd.to_datetime(budgets_df['release_date'])"
   ]
  },
  {
   "cell_type": "markdown",
   "metadata": {},
   "source": [
    "### IMDb Dataset\n",
    "\n",
    "The IMDb dataset includes title, genres and runtime minutes. It is imported as genre_df."
   ]
  },
  {
   "cell_type": "code",
   "execution_count": 8,
   "metadata": {
    "scrolled": true
   },
   "outputs": [
    {
     "data": {
      "text/html": [
       "<div>\n",
       "<style scoped>\n",
       "    .dataframe tbody tr th:only-of-type {\n",
       "        vertical-align: middle;\n",
       "    }\n",
       "\n",
       "    .dataframe tbody tr th {\n",
       "        vertical-align: top;\n",
       "    }\n",
       "\n",
       "    .dataframe thead th {\n",
       "        text-align: right;\n",
       "    }\n",
       "</style>\n",
       "<table border=\"1\" class=\"dataframe\">\n",
       "  <thead>\n",
       "    <tr style=\"text-align: right;\">\n",
       "      <th></th>\n",
       "      <th>tconst</th>\n",
       "      <th>original_title</th>\n",
       "      <th>start_year</th>\n",
       "      <th>runtime_minutes</th>\n",
       "      <th>genres</th>\n",
       "    </tr>\n",
       "    <tr>\n",
       "      <th>primary_title</th>\n",
       "      <th></th>\n",
       "      <th></th>\n",
       "      <th></th>\n",
       "      <th></th>\n",
       "      <th></th>\n",
       "    </tr>\n",
       "  </thead>\n",
       "  <tbody>\n",
       "    <tr>\n",
       "      <th>Sunghursh</th>\n",
       "      <td>tt0063540</td>\n",
       "      <td>Sunghursh</td>\n",
       "      <td>2013</td>\n",
       "      <td>175.00</td>\n",
       "      <td>Action,Crime,Drama</td>\n",
       "    </tr>\n",
       "    <tr>\n",
       "      <th>One Day Before the Rainy Season</th>\n",
       "      <td>tt0066787</td>\n",
       "      <td>Ashad Ka Ek Din</td>\n",
       "      <td>2019</td>\n",
       "      <td>114.00</td>\n",
       "      <td>Biography,Drama</td>\n",
       "    </tr>\n",
       "    <tr>\n",
       "      <th>The Other Side of the Wind</th>\n",
       "      <td>tt0069049</td>\n",
       "      <td>The Other Side of the Wind</td>\n",
       "      <td>2018</td>\n",
       "      <td>122.00</td>\n",
       "      <td>Drama</td>\n",
       "    </tr>\n",
       "    <tr>\n",
       "      <th>Sabse Bada Sukh</th>\n",
       "      <td>tt0069204</td>\n",
       "      <td>Sabse Bada Sukh</td>\n",
       "      <td>2018</td>\n",
       "      <td>nan</td>\n",
       "      <td>Comedy,Drama</td>\n",
       "    </tr>\n",
       "    <tr>\n",
       "      <th>The Wandering Soap Opera</th>\n",
       "      <td>tt0100275</td>\n",
       "      <td>La Telenovela Errante</td>\n",
       "      <td>2017</td>\n",
       "      <td>80.00</td>\n",
       "      <td>Comedy,Drama,Fantasy</td>\n",
       "    </tr>\n",
       "  </tbody>\n",
       "</table>\n",
       "</div>"
      ],
      "text/plain": [
       "                                    tconst              original_title  \\\n",
       "primary_title                                                            \n",
       "Sunghursh                        tt0063540                   Sunghursh   \n",
       "One Day Before the Rainy Season  tt0066787             Ashad Ka Ek Din   \n",
       "The Other Side of the Wind       tt0069049  The Other Side of the Wind   \n",
       "Sabse Bada Sukh                  tt0069204             Sabse Bada Sukh   \n",
       "The Wandering Soap Opera         tt0100275       La Telenovela Errante   \n",
       "\n",
       "                                 start_year  runtime_minutes  \\\n",
       "primary_title                                                  \n",
       "Sunghursh                              2013           175.00   \n",
       "One Day Before the Rainy Season        2019           114.00   \n",
       "The Other Side of the Wind             2018           122.00   \n",
       "Sabse Bada Sukh                        2018              nan   \n",
       "The Wandering Soap Opera               2017            80.00   \n",
       "\n",
       "                                               genres  \n",
       "primary_title                                          \n",
       "Sunghursh                          Action,Crime,Drama  \n",
       "One Day Before the Rainy Season       Biography,Drama  \n",
       "The Other Side of the Wind                      Drama  \n",
       "Sabse Bada Sukh                          Comedy,Drama  \n",
       "The Wandering Soap Opera         Comedy,Drama,Fantasy  "
      ]
     },
     "execution_count": 8,
     "metadata": {},
     "output_type": "execute_result"
    }
   ],
   "source": [
    "genre_df.head()"
   ]
  },
  {
   "cell_type": "code",
   "execution_count": 37,
   "metadata": {},
   "outputs": [
    {
     "data": {
      "text/plain": [
       "2017    17504\n",
       "2016    17272\n",
       "2018    16849\n",
       "2015    16243\n",
       "2014    15589\n",
       "2013    14709\n",
       "2012    13787\n",
       "2011    12900\n",
       "2010    11849\n",
       "2019     8379\n",
       "2020      937\n",
       "2021       83\n",
       "2022       32\n",
       "2023        5\n",
       "2024        2\n",
       "2027        1\n",
       "2026        1\n",
       "2025        1\n",
       "2115        1\n",
       "Name: start_year, dtype: int64"
      ]
     },
     "execution_count": 37,
     "metadata": {},
     "output_type": "execute_result"
    }
   ],
   "source": [
    "genre_df['start_year'].value_counts()"
   ]
  },
  {
   "cell_type": "code",
   "execution_count": 10,
   "metadata": {},
   "outputs": [
    {
     "data": {
      "text/plain": [
       "Documentary                   32185\n",
       "Drama                         21486\n",
       "Comedy                         9177\n",
       "Horror                         4372\n",
       "Comedy,Drama                   3519\n",
       "                              ...  \n",
       "Crime,Family,Thriller             1\n",
       "Adult,Comedy                      1\n",
       "Comedy,Documentary,Western        1\n",
       "Documentary,Music,Western         1\n",
       "Family,Musical,Sport              1\n",
       "Name: genres, Length: 1085, dtype: int64"
      ]
     },
     "execution_count": 10,
     "metadata": {},
     "output_type": "execute_result"
    }
   ],
   "source": [
    "genre_df['genres'].value_counts()"
   ]
  },
  {
   "cell_type": "markdown",
   "metadata": {},
   "source": [
    "## Data Preparation"
   ]
  },
  {
   "cell_type": "markdown",
   "metadata": {},
   "source": [
    "### Data Merging and Cleaning\n",
    "\n",
    "In this section, I will first join the The-Numbers and IMDb dataframes into a new dataframe called budgets_genre_df. After, I will clean the new dataframe by dropping unnecessary columns."
   ]
  },
  {
   "cell_type": "code",
   "execution_count": 11,
   "metadata": {
    "scrolled": true
   },
   "outputs": [
    {
     "data": {
      "text/html": [
       "<div>\n",
       "<style scoped>\n",
       "    .dataframe tbody tr th:only-of-type {\n",
       "        vertical-align: middle;\n",
       "    }\n",
       "\n",
       "    .dataframe tbody tr th {\n",
       "        vertical-align: top;\n",
       "    }\n",
       "\n",
       "    .dataframe thead th {\n",
       "        text-align: right;\n",
       "    }\n",
       "</style>\n",
       "<table border=\"1\" class=\"dataframe\">\n",
       "  <thead>\n",
       "    <tr style=\"text-align: right;\">\n",
       "      <th></th>\n",
       "      <th>original_title</th>\n",
       "      <th>release_date</th>\n",
       "      <th>production_budget</th>\n",
       "      <th>domestic_gross</th>\n",
       "      <th>worldwide_gross</th>\n",
       "      <th>runtime_minutes</th>\n",
       "      <th>genres</th>\n",
       "    </tr>\n",
       "  </thead>\n",
       "  <tbody>\n",
       "    <tr>\n",
       "      <th>0</th>\n",
       "      <td>#Horror</td>\n",
       "      <td>2015-11-20</td>\n",
       "      <td>$1,500,000</td>\n",
       "      <td>$0</td>\n",
       "      <td>$0</td>\n",
       "      <td>101.00</td>\n",
       "      <td>Crime,Drama,Horror</td>\n",
       "    </tr>\n",
       "    <tr>\n",
       "      <th>1</th>\n",
       "      <td>10 Cloverfield Lane</td>\n",
       "      <td>2016-03-11</td>\n",
       "      <td>$5,000,000</td>\n",
       "      <td>$72,082,999</td>\n",
       "      <td>$108,286,422</td>\n",
       "      <td>103.00</td>\n",
       "      <td>Drama,Horror,Mystery</td>\n",
       "    </tr>\n",
       "    <tr>\n",
       "      <th>2</th>\n",
       "      <td>10 Days in a Madhouse</td>\n",
       "      <td>2015-11-11</td>\n",
       "      <td>$12,000,000</td>\n",
       "      <td>$14,616</td>\n",
       "      <td>$14,616</td>\n",
       "      <td>111.00</td>\n",
       "      <td>Drama</td>\n",
       "    </tr>\n",
       "    <tr>\n",
       "      <th>3</th>\n",
       "      <td>12 Rounds</td>\n",
       "      <td>2009-03-27</td>\n",
       "      <td>$20,000,000</td>\n",
       "      <td>$12,234,694</td>\n",
       "      <td>$17,306,648</td>\n",
       "      <td>nan</td>\n",
       "      <td>Action,Drama,Romance</td>\n",
       "    </tr>\n",
       "    <tr>\n",
       "      <th>4</th>\n",
       "      <td>12 Strong</td>\n",
       "      <td>2018-01-19</td>\n",
       "      <td>$35,000,000</td>\n",
       "      <td>$45,819,713</td>\n",
       "      <td>$71,118,378</td>\n",
       "      <td>130.00</td>\n",
       "      <td>Action,Drama,History</td>\n",
       "    </tr>\n",
       "  </tbody>\n",
       "</table>\n",
       "</div>"
      ],
      "text/plain": [
       "          original_title release_date production_budget domestic_gross  \\\n",
       "0                #Horror   2015-11-20        $1,500,000             $0   \n",
       "1    10 Cloverfield Lane   2016-03-11        $5,000,000    $72,082,999   \n",
       "2  10 Days in a Madhouse   2015-11-11       $12,000,000        $14,616   \n",
       "3              12 Rounds   2009-03-27       $20,000,000    $12,234,694   \n",
       "4              12 Strong   2018-01-19       $35,000,000    $45,819,713   \n",
       "\n",
       "  worldwide_gross  runtime_minutes                genres  \n",
       "0              $0           101.00    Crime,Drama,Horror  \n",
       "1    $108,286,422           103.00  Drama,Horror,Mystery  \n",
       "2         $14,616           111.00                 Drama  \n",
       "3     $17,306,648              nan  Action,Drama,Romance  \n",
       "4     $71,118,378           130.00  Action,Drama,History  "
      ]
     },
     "execution_count": 11,
     "metadata": {},
     "output_type": "execute_result"
    }
   ],
   "source": [
    "# Join on the basis that both use movie titles as indexes\n",
    "budgets_genre_df = budgets_df.join(genre_df, how='inner')\n",
    "\n",
    "# Drop unnecessary or redundant columns\n",
    "budgets_genre_df = budgets_genre_df.drop(['tconst', 'start_year', 'id'], axis=1)\n",
    "\n",
    "# Adjust indexes\n",
    "budgets_genre_df.set_index('original_title', inplace=True)\n",
    "budgets_genre_df = budgets_genre_df.reset_index()\n",
    "budgets_genre_df.head()"
   ]
  },
  {
   "cell_type": "markdown",
   "metadata": {},
   "source": [
    "In the next step, I will visualize and remove duplicate or invalid entries. A preliminary check of the main dataframe reveals up to 1732 missing and/or duplicated values. While a substantial portion of the dataset in percentage terms, the remaining ~2400 entries should still provide us with enough raw data points to generate the market insights we are seeking with reasonable power."
   ]
  },
  {
   "cell_type": "code",
   "execution_count": 12,
   "metadata": {},
   "outputs": [
    {
     "data": {
      "text/plain": [
       "(3815, 7)"
      ]
     },
     "execution_count": 12,
     "metadata": {},
     "output_type": "execute_result"
    }
   ],
   "source": [
    "# Find number of rows\n",
    "budgets_genre_df.shape"
   ]
  },
  {
   "cell_type": "code",
   "execution_count": 13,
   "metadata": {},
   "outputs": [
    {
     "data": {
      "text/plain": [
       "False    2643\n",
       "True     1172\n",
       "dtype: int64"
      ]
     },
     "metadata": {},
     "output_type": "display_data"
    },
    {
     "data": {
      "text/plain": [
       "original_title         1\n",
       "release_date           0\n",
       "production_budget      0\n",
       "domestic_gross         0\n",
       "worldwide_gross        0\n",
       "runtime_minutes      487\n",
       "genres                72\n",
       "dtype: int64"
      ]
     },
     "execution_count": 13,
     "metadata": {},
     "output_type": "execute_result"
    }
   ],
   "source": [
    "# Check for missing and/or duplicated values\n",
    "display(budgets_genre_df.duplicated(subset=['original_title', 'release_date']).value_counts())\n",
    "budgets_genre_df.isna().sum()"
   ]
  },
  {
   "cell_type": "code",
   "execution_count": 14,
   "metadata": {},
   "outputs": [
    {
     "data": {
      "text/html": [
       "<div>\n",
       "<style scoped>\n",
       "    .dataframe tbody tr th:only-of-type {\n",
       "        vertical-align: middle;\n",
       "    }\n",
       "\n",
       "    .dataframe tbody tr th {\n",
       "        vertical-align: top;\n",
       "    }\n",
       "\n",
       "    .dataframe thead th {\n",
       "        text-align: right;\n",
       "    }\n",
       "</style>\n",
       "<table border=\"1\" class=\"dataframe\">\n",
       "  <thead>\n",
       "    <tr style=\"text-align: right;\">\n",
       "      <th></th>\n",
       "      <th>original_title</th>\n",
       "      <th>release_date</th>\n",
       "      <th>production_budget</th>\n",
       "      <th>domestic_gross</th>\n",
       "      <th>worldwide_gross</th>\n",
       "      <th>runtime_minutes</th>\n",
       "      <th>genres</th>\n",
       "    </tr>\n",
       "  </thead>\n",
       "  <tbody>\n",
       "    <tr>\n",
       "      <th>455</th>\n",
       "      <td>Brothers</td>\n",
       "      <td>2009-12-04</td>\n",
       "      <td>$26,000,000</td>\n",
       "      <td>$28,544,157</td>\n",
       "      <td>$45,043,870</td>\n",
       "      <td>nan</td>\n",
       "      <td>Action</td>\n",
       "    </tr>\n",
       "    <tr>\n",
       "      <th>463</th>\n",
       "      <td>Brothers</td>\n",
       "      <td>2009-12-04</td>\n",
       "      <td>$26,000,000</td>\n",
       "      <td>$28,544,157</td>\n",
       "      <td>$45,043,870</td>\n",
       "      <td>nan</td>\n",
       "      <td>Action</td>\n",
       "    </tr>\n",
       "    <tr>\n",
       "      <th>468</th>\n",
       "      <td>Brothers</td>\n",
       "      <td>2015-08-14</td>\n",
       "      <td>$13,000,000</td>\n",
       "      <td>$656,688</td>\n",
       "      <td>$17,856,688</td>\n",
       "      <td>nan</td>\n",
       "      <td>Action</td>\n",
       "    </tr>\n",
       "    <tr>\n",
       "      <th>476</th>\n",
       "      <td>Brothers</td>\n",
       "      <td>2015-08-14</td>\n",
       "      <td>$13,000,000</td>\n",
       "      <td>$656,688</td>\n",
       "      <td>$17,856,688</td>\n",
       "      <td>nan</td>\n",
       "      <td>Action</td>\n",
       "    </tr>\n",
       "    <tr>\n",
       "      <th>778</th>\n",
       "      <td>Detention</td>\n",
       "      <td>2012-04-13</td>\n",
       "      <td>$10,000,000</td>\n",
       "      <td>$0</td>\n",
       "      <td>$0</td>\n",
       "      <td>nan</td>\n",
       "      <td>Horror</td>\n",
       "    </tr>\n",
       "  </tbody>\n",
       "</table>\n",
       "</div>"
      ],
      "text/plain": [
       "    original_title release_date production_budget domestic_gross  \\\n",
       "455       Brothers   2009-12-04       $26,000,000    $28,544,157   \n",
       "463       Brothers   2009-12-04       $26,000,000    $28,544,157   \n",
       "468       Brothers   2015-08-14       $13,000,000       $656,688   \n",
       "476       Brothers   2015-08-14       $13,000,000       $656,688   \n",
       "778      Detention   2012-04-13       $10,000,000             $0   \n",
       "\n",
       "    worldwide_gross  runtime_minutes  genres  \n",
       "455     $45,043,870              nan  Action  \n",
       "463     $45,043,870              nan  Action  \n",
       "468     $17,856,688              nan  Action  \n",
       "476     $17,856,688              nan  Action  \n",
       "778              $0              nan  Horror  "
      ]
     },
     "execution_count": 14,
     "metadata": {},
     "output_type": "execute_result"
    }
   ],
   "source": [
    "# Visually inspect duplicated data\n",
    "budgets_genre_df[budgets_genre_df.duplicated(keep=False)].sort_values(by='original_title').head()"
   ]
  },
  {
   "cell_type": "code",
   "execution_count": 15,
   "metadata": {},
   "outputs": [
    {
     "data": {
      "text/plain": [
       "(2427, 7)"
      ]
     },
     "execution_count": 15,
     "metadata": {},
     "output_type": "execute_result"
    }
   ],
   "source": [
    "# Drop duplicate and missing entries\n",
    "budgets_genre_df = budgets_genre_df.drop_duplicates(subset=['original_title', 'release_date'], inplace=False)\n",
    "budgets_genre_df = budgets_genre_df.dropna()\n",
    "\n",
    "# Check remaining entries\n",
    "budgets_genre_df.shape"
   ]
  },
  {
   "cell_type": "code",
   "execution_count": 16,
   "metadata": {},
   "outputs": [],
   "source": [
    "# Make columns using dollar values easier to use by normalizing the formatting.\n",
    "def clean_dollar_strings(df, column_name):\n",
    "    '''Convert dollar amounts from strings to floats and remove commas and '$' sign'''\n",
    "    if df[column_name].dtype != float: \n",
    "        df[column_name] = df[column_name].apply(lambda x: x.strip('$'))\n",
    "        df[column_name] = df[column_name].apply(lambda x: x.replace(',',''))\n",
    "        df[column_name] = df[column_name].astype(float)\n",
    "\n",
    "# Apply above function to relevant columns\n",
    "budget_list = ['production_budget', 'domestic_gross', 'worldwide_gross']\n",
    "for item in budget_list:\n",
    "    clean_dollar_strings(budgets_genre_df, item)"
   ]
  },
  {
   "cell_type": "markdown",
   "metadata": {},
   "source": [
    "### Feature Engineering"
   ]
  },
  {
   "cell_type": "markdown",
   "metadata": {
    "scrolled": true
   },
   "source": [
    "I create a `net_profit` column by subtracting the production budget from the worldwide gross"
   ]
  },
  {
   "cell_type": "code",
   "execution_count": 17,
   "metadata": {},
   "outputs": [],
   "source": [
    "budgets_genre_df['net_profit'] = budgets_genre_df['worldwide_gross'] - budgets_genre_df['production_budget']"
   ]
  },
  {
   "cell_type": "markdown",
   "metadata": {},
   "source": [
    "I create a `release_month` column by subtracting the production budget from the worldwide gross"
   ]
  },
  {
   "cell_type": "code",
   "execution_count": 18,
   "metadata": {},
   "outputs": [],
   "source": [
    "budgets_genre_df['release_month'] = budgets_genre_df['release_date'].dt.month"
   ]
  },
  {
   "cell_type": "markdown",
   "metadata": {},
   "source": [
    "I create dictionaries for months and seasons in order to create a `release_season` column as well as for use in visualizations below."
   ]
  },
  {
   "cell_type": "code",
   "execution_count": 19,
   "metadata": {},
   "outputs": [],
   "source": [
    "month_dict = {1:'Jan', 2:'Feb', 3:'Mar', 4:'Apr', 5:'May', 6:'Jun', 7:'July', 8:'Aug', 9:'Sep', 10:'Oct', 11:'Nov', 12:'Dec'}\n",
    "season_dict = {1:'Spring (Q1)', 2:'Spring (Q1)', 3:'Spring (Q1)', 4: 'Summer (Q2)', 5:'Summer (Q2)', 6:'Summer (Q2)', 7:'Fall (Q3)', 8:'Fall (Q3)', 9:'Fall (Q3)', 10:'Winter (Q4)', 11:'Winter (Q4)', 12:'Winter (Q4)'}\n",
    "budgets_genre_df['release_season'] = budgets_genre_df['release_month'].replace(season_dict)"
   ]
  },
  {
   "cell_type": "code",
   "execution_count": 20,
   "metadata": {},
   "outputs": [],
   "source": [
    "# Save cleaned dataset as CSV\n",
    "budgets_genre_df.to_csv('./budgets_genre_df.csv')"
   ]
  },
  {
   "cell_type": "markdown",
   "metadata": {},
   "source": [
    "## Analysis"
   ]
  },
  {
   "cell_type": "markdown",
   "metadata": {},
   "source": [
    "### Gross Sales and Net Profits by Month\n",
    "\n",
    "The chart shows the gross worldwide sales and net profit of the average movie for each month of the year. The best selling and most profitable months of the year are May, June, July, and November. The worst performing months of the year are the fall months (Aug, Sep, Oct) and January. Notably, the ratio between production budget and gross sales remains relatively constant."
   ]
  },
  {
   "cell_type": "code",
   "execution_count": 21,
   "metadata": {},
   "outputs": [],
   "source": [
    "# We need the monthly sales and profits, so we will group by release month\n",
    "graphs_df = budgets_genre_df.groupby(by='release_month').mean()\n",
    "\n",
    "# Drop unneccessary columns\n",
    "graphs_df = graphs_df.drop(['domestic_gross', 'runtime_minutes', 'production_budget'], axis=1)\n",
    "\n",
    "# This column is a construct needed for the stacked bar chart \n",
    "graphs_df['grossplusprofit'] = graphs_df['worldwide_gross'] + graphs_df['net_profit']\n",
    "\n",
    "graphs_df = graphs_df.reset_index()"
   ]
  },
  {
   "cell_type": "code",
   "execution_count": 22,
   "metadata": {
    "scrolled": false
   },
   "outputs": [
    {
     "data": {
      "image/png": "[encoded data removed]",
      "text/plain": [
       "<Figure size 1080x720 with 1 Axes>"
      ]
     },
     "metadata": {},
     "output_type": "display_data"
    }
   ],
   "source": [
    "# The first visualization is a barplot that shows the net profit and gross worldwide \n",
    "# sales of the average movie released in each month\n",
    "\n",
    "plt.figure(figsize=(15,10))\n",
    "\n",
    "#Plot 1 - background - \"total\" (top) series\n",
    "ax_top = sns.barplot(x = graphs_df['release_month'], y = graphs_df['worldwide_gross'], color = \"#82E0AA\")\n",
    "\n",
    "#Plot 2 - overlay - \"bottom\" series\n",
    "ax_bot = sns.barplot(x = graphs_df['release_month'], y = graphs_df['net_profit'], color = '#1ABC9C')\n",
    "\n",
    "# Set x and y labels and title\n",
    "ax_top.set_xticklabels(month_dict.values());\n",
    "ax_top.set_ylim(0,200000000)\n",
    "ax_top.set_ylabel('Dollars ($)', labelpad=15, fontdict = {'fontsize':25})\n",
    "ax_top.set_xlabel('Release Month', labelpad=15, fontdict = {'fontsize':25})\n",
    "plt.title('Average Gross Sales & Profits (Worldwide)', fontdict = {'fontsize':30}, pad=40)\n",
    "plt.savefig('./figures/SalesByMonth.png')\n",
    "\n",
    "# Format dollar amounts to display original value\n",
    "fmt = '{x:,.0f}'\n",
    "tick = mtick.StrMethodFormatter(fmt)\n",
    "ax_top.yaxis.set_major_formatter(tick) \n",
    "\n",
    "# Legend\n",
    "legend_elements = [Line2D([0], [0], color='#82E0AA', lw=4, label='Gross Sales'),\n",
    "Line2D([0], [0], color='#1ABC9C', lw=4, label='Net Profit')]\n",
    "plt.legend(handles=legend_elements, loc='upper right');"
   ]
  },
  {
   "cell_type": "markdown",
   "metadata": {},
   "source": [
    "### Gross Sales and Net Profits by Season (or Quarter)\n",
    "\n",
    "This chart is similar to the previous chart, except it groups the average movie sales by seasons/quarters instead of months. The summer season (Q2) is by far the best performing season in terms of revenues and profits, followed by winter (Q4). Spring (Q1) and fall (Q2) are virtually identical."
   ]
  },
  {
   "cell_type": "code",
   "execution_count": 23,
   "metadata": {},
   "outputs": [],
   "source": [
    "graphs_df_2 = budgets_genre_df.groupby(by='release_season').mean()\n",
    "graphs_df_2 = graphs_df_2.reset_index()\n",
    "\n",
    "# Reindex to change season order display to 'Spring' -> 'Summer' -> 'Fall' -> 'Winter'\n",
    "idx = [1,2,0,3]\n",
    "graphs_df_2 = graphs_df_2.reindex(idx)"
   ]
  },
  {
   "cell_type": "code",
   "execution_count": 24,
   "metadata": {
    "scrolled": false
   },
   "outputs": [
    {
     "data": {
      "image/png": "[encoded data removed]",
      "text/plain": [
       "<Figure size 1080x720 with 1 Axes>"
      ]
     },
     "metadata": {},
     "output_type": "display_data"
    }
   ],
   "source": [
    "fig2 = plt.figure(figsize=(15,10))\n",
    "\n",
    "# Plot 1 - background - \"total\" (top) series\n",
    "ax2_top = sns.barplot(x = graphs_df_2['release_season'], y = graphs_df_2['worldwide_gross'], color = '#7DCEA0')\n",
    "\n",
    "# Plot 2 - overlay - \"bottom\" series\n",
    "ax2_bot = sns.barplot(x = graphs_df_2['release_season'], y = graphs_df_2['net_profit'], color = '#27AE60')\n",
    "\n",
    "# Format y-labels\n",
    "tick2 = mtick.StrMethodFormatter(fmt)\n",
    "ax2_top.yaxis.set_major_formatter(tick) \n",
    "\n",
    "ax2_top.set_ylim(0, 160000000)\n",
    "# ax2_top.set_xticklabels(season_dict2.keys());\n",
    "ax2_top.set_ylabel('Net Profit ($)', labelpad=20, fontdict = {'fontsize' : 25})\n",
    "ax2_top.set_xlabel('Season (Quarter)', labelpad=20, fontdict = {'fontsize' : 25})\n",
    "plt.title('Average Gross Sales & Profits by Season', fontdict = {'fontsize' : 30},pad=40)\n",
    "\n",
    "legend_elements = [Line2D([0], [0], color='#7DCEA0', lw=4, label='Gross Sales'),\n",
    "Line2D([0], [0], color='#27AE60', lw=4, label='Net Profit')]\n",
    "\n",
    "l = plt.legend(handles=legend_elements, loc='upper right')"
   ]
  },
  {
   "cell_type": "markdown",
   "metadata": {},
   "source": [
    "### Profitability by Genre\n",
    "\n",
    "This chart shows the average net profit per each genre category. The most profitable genres (defined here as earning over 100 M in profit) are Animation, Adventure, Sci-Fi, Musical, Fantasy, Action, and Family. The two most profitable genres are Animation and Adventure with over 200 M in profit. The least profitable genres are War, History, Documentary, Western and News."
   ]
  },
  {
   "cell_type": "code",
   "execution_count": 25,
   "metadata": {},
   "outputs": [
    {
     "data": {
      "text/html": [
       "<div>\n",
       "<style scoped>\n",
       "    .dataframe tbody tr th:only-of-type {\n",
       "        vertical-align: middle;\n",
       "    }\n",
       "\n",
       "    .dataframe tbody tr th {\n",
       "        vertical-align: top;\n",
       "    }\n",
       "\n",
       "    .dataframe thead th {\n",
       "        text-align: right;\n",
       "    }\n",
       "</style>\n",
       "<table border=\"1\" class=\"dataframe\">\n",
       "  <thead>\n",
       "    <tr style=\"text-align: right;\">\n",
       "      <th></th>\n",
       "      <th>original_title</th>\n",
       "      <th>release_date</th>\n",
       "      <th>production_budget</th>\n",
       "      <th>domestic_gross</th>\n",
       "      <th>worldwide_gross</th>\n",
       "      <th>runtime_minutes</th>\n",
       "      <th>genres</th>\n",
       "      <th>net_profit</th>\n",
       "      <th>release_month</th>\n",
       "      <th>release_season</th>\n",
       "    </tr>\n",
       "  </thead>\n",
       "  <tbody>\n",
       "    <tr>\n",
       "      <th>0</th>\n",
       "      <td>#Horror</td>\n",
       "      <td>2015-11-20</td>\n",
       "      <td>1500000.00</td>\n",
       "      <td>0.00</td>\n",
       "      <td>0.00</td>\n",
       "      <td>101.00</td>\n",
       "      <td>[Crime, Drama, Horror]</td>\n",
       "      <td>-1500000.00</td>\n",
       "      <td>11</td>\n",
       "      <td>Winter (Q4)</td>\n",
       "    </tr>\n",
       "    <tr>\n",
       "      <th>1</th>\n",
       "      <td>10 Cloverfield Lane</td>\n",
       "      <td>2016-03-11</td>\n",
       "      <td>5000000.00</td>\n",
       "      <td>72082999.00</td>\n",
       "      <td>108286422.00</td>\n",
       "      <td>103.00</td>\n",
       "      <td>[Drama, Horror, Mystery]</td>\n",
       "      <td>103286422.00</td>\n",
       "      <td>3</td>\n",
       "      <td>Spring (Q1)</td>\n",
       "    </tr>\n",
       "    <tr>\n",
       "      <th>2</th>\n",
       "      <td>10 Days in a Madhouse</td>\n",
       "      <td>2015-11-11</td>\n",
       "      <td>12000000.00</td>\n",
       "      <td>14616.00</td>\n",
       "      <td>14616.00</td>\n",
       "      <td>111.00</td>\n",
       "      <td>[Drama]</td>\n",
       "      <td>-11985384.00</td>\n",
       "      <td>11</td>\n",
       "      <td>Winter (Q4)</td>\n",
       "    </tr>\n",
       "    <tr>\n",
       "      <th>4</th>\n",
       "      <td>12 Strong</td>\n",
       "      <td>2018-01-19</td>\n",
       "      <td>35000000.00</td>\n",
       "      <td>45819713.00</td>\n",
       "      <td>71118378.00</td>\n",
       "      <td>130.00</td>\n",
       "      <td>[Action, Drama, History]</td>\n",
       "      <td>36118378.00</td>\n",
       "      <td>1</td>\n",
       "      <td>Spring (Q1)</td>\n",
       "    </tr>\n",
       "    <tr>\n",
       "      <th>5</th>\n",
       "      <td>12 Years a Slave</td>\n",
       "      <td>2013-10-18</td>\n",
       "      <td>20000000.00</td>\n",
       "      <td>56671993.00</td>\n",
       "      <td>181025343.00</td>\n",
       "      <td>134.00</td>\n",
       "      <td>[Biography, Drama, History]</td>\n",
       "      <td>161025343.00</td>\n",
       "      <td>10</td>\n",
       "      <td>Winter (Q4)</td>\n",
       "    </tr>\n",
       "  </tbody>\n",
       "</table>\n",
       "</div>"
      ],
      "text/plain": [
       "          original_title release_date  production_budget  domestic_gross  \\\n",
       "0                #Horror   2015-11-20         1500000.00            0.00   \n",
       "1    10 Cloverfield Lane   2016-03-11         5000000.00     72082999.00   \n",
       "2  10 Days in a Madhouse   2015-11-11        12000000.00        14616.00   \n",
       "4              12 Strong   2018-01-19        35000000.00     45819713.00   \n",
       "5       12 Years a Slave   2013-10-18        20000000.00     56671993.00   \n",
       "\n",
       "   worldwide_gross  runtime_minutes                       genres   net_profit  \\\n",
       "0             0.00           101.00       [Crime, Drama, Horror]  -1500000.00   \n",
       "1     108286422.00           103.00     [Drama, Horror, Mystery] 103286422.00   \n",
       "2         14616.00           111.00                      [Drama] -11985384.00   \n",
       "4      71118378.00           130.00     [Action, Drama, History]  36118378.00   \n",
       "5     181025343.00           134.00  [Biography, Drama, History] 161025343.00   \n",
       "\n",
       "   release_month release_season  \n",
       "0             11    Winter (Q4)  \n",
       "1              3    Spring (Q1)  \n",
       "2             11    Winter (Q4)  \n",
       "4              1    Spring (Q1)  \n",
       "5             10    Winter (Q4)  "
      ]
     },
     "execution_count": 25,
     "metadata": {},
     "output_type": "execute_result"
    }
   ],
   "source": [
    "budgets_genre_df['genres'] = budgets_genre_df['genres'].map(lambda x: x.split(','))\n",
    "\n",
    "budgets_genre_df.head()"
   ]
  },
  {
   "cell_type": "code",
   "execution_count": 26,
   "metadata": {},
   "outputs": [],
   "source": [
    "budgets_genre_df_2 = budgets_genre_df.explode('genres')"
   ]
  },
  {
   "cell_type": "code",
   "execution_count": 27,
   "metadata": {},
   "outputs": [],
   "source": [
    "# Sort by genre and display mean values\n",
    "budgets_genre_df_2 = budgets_genre_df_2.groupby('genres').mean().sort_values('net_profit', ascending=False)\n",
    "budgets_genre_df_2 = budgets_genre_df_2.reset_index()"
   ]
  },
  {
   "cell_type": "code",
   "execution_count": 28,
   "metadata": {},
   "outputs": [
    {
     "data": {
      "text/html": [
       "<div>\n",
       "<style scoped>\n",
       "    .dataframe tbody tr th:only-of-type {\n",
       "        vertical-align: middle;\n",
       "    }\n",
       "\n",
       "    .dataframe tbody tr th {\n",
       "        vertical-align: top;\n",
       "    }\n",
       "\n",
       "    .dataframe thead th {\n",
       "        text-align: right;\n",
       "    }\n",
       "</style>\n",
       "<table border=\"1\" class=\"dataframe\">\n",
       "  <thead>\n",
       "    <tr style=\"text-align: right;\">\n",
       "      <th></th>\n",
       "      <th>genres</th>\n",
       "      <th>production_budget</th>\n",
       "      <th>domestic_gross</th>\n",
       "      <th>worldwide_gross</th>\n",
       "      <th>runtime_minutes</th>\n",
       "      <th>net_profit</th>\n",
       "      <th>release_month</th>\n",
       "    </tr>\n",
       "  </thead>\n",
       "  <tbody>\n",
       "    <tr>\n",
       "      <th>0</th>\n",
       "      <td>Animation</td>\n",
       "      <td>85656925.62</td>\n",
       "      <td>114628820.27</td>\n",
       "      <td>310563862.39</td>\n",
       "      <td>92.28</td>\n",
       "      <td>224906936.77</td>\n",
       "      <td>6.97</td>\n",
       "    </tr>\n",
       "    <tr>\n",
       "      <th>1</th>\n",
       "      <td>Adventure</td>\n",
       "      <td>93029926.27</td>\n",
       "      <td>107449643.11</td>\n",
       "      <td>300968171.34</td>\n",
       "      <td>108.20</td>\n",
       "      <td>207938245.08</td>\n",
       "      <td>6.85</td>\n",
       "    </tr>\n",
       "    <tr>\n",
       "      <th>2</th>\n",
       "      <td>Sci-Fi</td>\n",
       "      <td>73317551.50</td>\n",
       "      <td>95115030.25</td>\n",
       "      <td>259892993.59</td>\n",
       "      <td>109.00</td>\n",
       "      <td>186575442.09</td>\n",
       "      <td>6.68</td>\n",
       "    </tr>\n",
       "    <tr>\n",
       "      <th>3</th>\n",
       "      <td>Musical</td>\n",
       "      <td>39105882.35</td>\n",
       "      <td>88724269.53</td>\n",
       "      <td>199807313.47</td>\n",
       "      <td>116.24</td>\n",
       "      <td>160701431.12</td>\n",
       "      <td>7.06</td>\n",
       "    </tr>\n",
       "    <tr>\n",
       "      <th>4</th>\n",
       "      <td>Fantasy</td>\n",
       "      <td>74731847.13</td>\n",
       "      <td>79938481.22</td>\n",
       "      <td>222127676.49</td>\n",
       "      <td>108.52</td>\n",
       "      <td>147395829.36</td>\n",
       "      <td>6.47</td>\n",
       "    </tr>\n",
       "  </tbody>\n",
       "</table>\n",
       "</div>"
      ],
      "text/plain": [
       "      genres  production_budget  domestic_gross  worldwide_gross  \\\n",
       "0  Animation        85656925.62    114628820.27     310563862.39   \n",
       "1  Adventure        93029926.27    107449643.11     300968171.34   \n",
       "2     Sci-Fi        73317551.50     95115030.25     259892993.59   \n",
       "3    Musical        39105882.35     88724269.53     199807313.47   \n",
       "4    Fantasy        74731847.13     79938481.22     222127676.49   \n",
       "\n",
       "   runtime_minutes   net_profit  release_month  \n",
       "0            92.28 224906936.77           6.97  \n",
       "1           108.20 207938245.08           6.85  \n",
       "2           109.00 186575442.09           6.68  \n",
       "3           116.24 160701431.12           7.06  \n",
       "4           108.52 147395829.36           6.47  "
      ]
     },
     "execution_count": 28,
     "metadata": {},
     "output_type": "execute_result"
    }
   ],
   "source": [
    "budgets_genre_df_2.head()"
   ]
  },
  {
   "cell_type": "code",
   "execution_count": 29,
   "metadata": {},
   "outputs": [
    {
     "data": {
      "image/png": "[encoded data removed]",
      "text/plain": [
       "<Figure size 1440x720 with 1 Axes>"
      ]
     },
     "metadata": {},
     "output_type": "display_data"
    }
   ],
   "source": [
    "fig3 = plt.figure(figsize=(20,10))\n",
    "ax3_top = sns.barplot(x = 'net_profit', y = 'genres', data=budgets_genre_df_2)\n",
    "\n",
    "# Format dollar amounts to display original value\n",
    "fmt = '{x:,.0f}'\n",
    "tick = mtick.StrMethodFormatter(fmt)\n",
    "ax3_top.xaxis.set_major_formatter(tick) \n",
    "\n",
    "# Set chart label parameters\n",
    "plt.title('Average Profit by Genre', fontdict = {'fontsize' : 35},pad=40)\n",
    "ax3_top.set_ylabel('Genre', fontdict = {'fontsize':30}, labelpad=25)\n",
    "ax3_top.set_xlabel('Net Profit ($)', fontdict = {'fontsize':30},labelpad=25);"
   ]
  },
  {
   "cell_type": "markdown",
   "metadata": {},
   "source": [
    "### Impact of movie duration on profitability\n",
    "\n",
    "This section explores the average profitability of a movie based on its relative duration. The median runtime value is found and used to divide the dataset into two bins: short and long. The average short movie vs. the average long movie are then compared. Long movies (duration > 100 minutes) are almost twice as profitable as short movies (duration < 100 minutes). "
   ]
  },
  {
   "cell_type": "code",
   "execution_count": 30,
   "metadata": {},
   "outputs": [
    {
     "data": {
      "text/plain": [
       "count   2427.00\n",
       "mean     101.29\n",
       "std       23.23\n",
       "min        1.00\n",
       "25%       90.00\n",
       "50%      100.00\n",
       "75%      113.00\n",
       "max      280.00\n",
       "Name: runtime_minutes, dtype: float64"
      ]
     },
     "execution_count": 30,
     "metadata": {},
     "output_type": "execute_result"
    }
   ],
   "source": [
    "budgets_genre_df['runtime_minutes'].describe()"
   ]
  },
  {
   "cell_type": "code",
   "execution_count": 31,
   "metadata": {
    "scrolled": true
   },
   "outputs": [
    {
     "data": {
      "text/html": [
       "<div>\n",
       "<style scoped>\n",
       "    .dataframe tbody tr th:only-of-type {\n",
       "        vertical-align: middle;\n",
       "    }\n",
       "\n",
       "    .dataframe tbody tr th {\n",
       "        vertical-align: top;\n",
       "    }\n",
       "\n",
       "    .dataframe thead th {\n",
       "        text-align: right;\n",
       "    }\n",
       "</style>\n",
       "<table border=\"1\" class=\"dataframe\">\n",
       "  <thead>\n",
       "    <tr style=\"text-align: right;\">\n",
       "      <th></th>\n",
       "      <th>original_title</th>\n",
       "      <th>release_date</th>\n",
       "      <th>production_budget</th>\n",
       "      <th>domestic_gross</th>\n",
       "      <th>worldwide_gross</th>\n",
       "      <th>runtime_minutes</th>\n",
       "      <th>genres</th>\n",
       "      <th>net_profit</th>\n",
       "      <th>release_month</th>\n",
       "      <th>release_season</th>\n",
       "    </tr>\n",
       "  </thead>\n",
       "  <tbody>\n",
       "    <tr>\n",
       "      <th>0</th>\n",
       "      <td>#Horror</td>\n",
       "      <td>2015-11-20</td>\n",
       "      <td>1500000.00</td>\n",
       "      <td>0.00</td>\n",
       "      <td>0.00</td>\n",
       "      <td>101.00</td>\n",
       "      <td>[Crime, Drama, Horror]</td>\n",
       "      <td>-1500000.00</td>\n",
       "      <td>11</td>\n",
       "      <td>Winter (Q4)</td>\n",
       "    </tr>\n",
       "    <tr>\n",
       "      <th>1</th>\n",
       "      <td>10 Cloverfield Lane</td>\n",
       "      <td>2016-03-11</td>\n",
       "      <td>5000000.00</td>\n",
       "      <td>72082999.00</td>\n",
       "      <td>108286422.00</td>\n",
       "      <td>103.00</td>\n",
       "      <td>[Drama, Horror, Mystery]</td>\n",
       "      <td>103286422.00</td>\n",
       "      <td>3</td>\n",
       "      <td>Spring (Q1)</td>\n",
       "    </tr>\n",
       "    <tr>\n",
       "      <th>2</th>\n",
       "      <td>10 Days in a Madhouse</td>\n",
       "      <td>2015-11-11</td>\n",
       "      <td>12000000.00</td>\n",
       "      <td>14616.00</td>\n",
       "      <td>14616.00</td>\n",
       "      <td>111.00</td>\n",
       "      <td>[Drama]</td>\n",
       "      <td>-11985384.00</td>\n",
       "      <td>11</td>\n",
       "      <td>Winter (Q4)</td>\n",
       "    </tr>\n",
       "    <tr>\n",
       "      <th>4</th>\n",
       "      <td>12 Strong</td>\n",
       "      <td>2018-01-19</td>\n",
       "      <td>35000000.00</td>\n",
       "      <td>45819713.00</td>\n",
       "      <td>71118378.00</td>\n",
       "      <td>130.00</td>\n",
       "      <td>[Action, Drama, History]</td>\n",
       "      <td>36118378.00</td>\n",
       "      <td>1</td>\n",
       "      <td>Spring (Q1)</td>\n",
       "    </tr>\n",
       "    <tr>\n",
       "      <th>5</th>\n",
       "      <td>12 Years a Slave</td>\n",
       "      <td>2013-10-18</td>\n",
       "      <td>20000000.00</td>\n",
       "      <td>56671993.00</td>\n",
       "      <td>181025343.00</td>\n",
       "      <td>134.00</td>\n",
       "      <td>[Biography, Drama, History]</td>\n",
       "      <td>161025343.00</td>\n",
       "      <td>10</td>\n",
       "      <td>Winter (Q4)</td>\n",
       "    </tr>\n",
       "  </tbody>\n",
       "</table>\n",
       "</div>"
      ],
      "text/plain": [
       "          original_title release_date  production_budget  domestic_gross  \\\n",
       "0                #Horror   2015-11-20         1500000.00            0.00   \n",
       "1    10 Cloverfield Lane   2016-03-11         5000000.00     72082999.00   \n",
       "2  10 Days in a Madhouse   2015-11-11        12000000.00        14616.00   \n",
       "4              12 Strong   2018-01-19        35000000.00     45819713.00   \n",
       "5       12 Years a Slave   2013-10-18        20000000.00     56671993.00   \n",
       "\n",
       "   worldwide_gross  runtime_minutes                       genres   net_profit  \\\n",
       "0             0.00           101.00       [Crime, Drama, Horror]  -1500000.00   \n",
       "1     108286422.00           103.00     [Drama, Horror, Mystery] 103286422.00   \n",
       "2         14616.00           111.00                      [Drama] -11985384.00   \n",
       "4      71118378.00           130.00     [Action, Drama, History]  36118378.00   \n",
       "5     181025343.00           134.00  [Biography, Drama, History] 161025343.00   \n",
       "\n",
       "   release_month release_season  \n",
       "0             11    Winter (Q4)  \n",
       "1              3    Spring (Q1)  \n",
       "2             11    Winter (Q4)  \n",
       "4              1    Spring (Q1)  \n",
       "5             10    Winter (Q4)  "
      ]
     },
     "execution_count": 31,
     "metadata": {},
     "output_type": "execute_result"
    }
   ],
   "source": [
    "budgets_genre_df.head()"
   ]
  },
  {
   "cell_type": "code",
   "execution_count": 32,
   "metadata": {},
   "outputs": [
    {
     "data": {
      "text/plain": [
       "<Figure size 1080x720 with 0 Axes>"
      ]
     },
     "metadata": {},
     "output_type": "display_data"
    },
    {
     "data": {
      "image/png": "[encoded data removed]",
      "text/plain": [
       "<Figure size 360x360 with 1 Axes>"
      ]
     },
     "metadata": {},
     "output_type": "display_data"
    }
   ],
   "source": [
    "# Further confirmation of analytical strategy using histogram visualization\n",
    "fig4 = plt.figure(figsize=(15,10))\n",
    "ax4 = sns.displot(budgets_genre_df['runtime_minutes'], bins='auto');"
   ]
  },
  {
   "cell_type": "code",
   "execution_count": 33,
   "metadata": {
    "scrolled": true
   },
   "outputs": [
    {
     "data": {
      "text/html": [
       "<div>\n",
       "<style scoped>\n",
       "    .dataframe tbody tr th:only-of-type {\n",
       "        vertical-align: middle;\n",
       "    }\n",
       "\n",
       "    .dataframe tbody tr th {\n",
       "        vertical-align: top;\n",
       "    }\n",
       "\n",
       "    .dataframe thead th {\n",
       "        text-align: right;\n",
       "    }\n",
       "</style>\n",
       "<table border=\"1\" class=\"dataframe\">\n",
       "  <thead>\n",
       "    <tr style=\"text-align: right;\">\n",
       "      <th></th>\n",
       "      <th>original_title</th>\n",
       "      <th>release_date</th>\n",
       "      <th>production_budget</th>\n",
       "      <th>domestic_gross</th>\n",
       "      <th>worldwide_gross</th>\n",
       "      <th>runtime_minutes</th>\n",
       "      <th>genres</th>\n",
       "      <th>net_profit</th>\n",
       "      <th>release_month</th>\n",
       "      <th>release_season</th>\n",
       "      <th>movie_length</th>\n",
       "    </tr>\n",
       "  </thead>\n",
       "  <tbody>\n",
       "    <tr>\n",
       "      <th>0</th>\n",
       "      <td>#Horror</td>\n",
       "      <td>2015-11-20</td>\n",
       "      <td>1500000.00</td>\n",
       "      <td>0.00</td>\n",
       "      <td>0.00</td>\n",
       "      <td>101.00</td>\n",
       "      <td>[Crime, Drama, Horror]</td>\n",
       "      <td>-1500000.00</td>\n",
       "      <td>11</td>\n",
       "      <td>Winter (Q4)</td>\n",
       "      <td>long</td>\n",
       "    </tr>\n",
       "    <tr>\n",
       "      <th>1</th>\n",
       "      <td>10 Cloverfield Lane</td>\n",
       "      <td>2016-03-11</td>\n",
       "      <td>5000000.00</td>\n",
       "      <td>72082999.00</td>\n",
       "      <td>108286422.00</td>\n",
       "      <td>103.00</td>\n",
       "      <td>[Drama, Horror, Mystery]</td>\n",
       "      <td>103286422.00</td>\n",
       "      <td>3</td>\n",
       "      <td>Spring (Q1)</td>\n",
       "      <td>long</td>\n",
       "    </tr>\n",
       "    <tr>\n",
       "      <th>2</th>\n",
       "      <td>10 Days in a Madhouse</td>\n",
       "      <td>2015-11-11</td>\n",
       "      <td>12000000.00</td>\n",
       "      <td>14616.00</td>\n",
       "      <td>14616.00</td>\n",
       "      <td>111.00</td>\n",
       "      <td>[Drama]</td>\n",
       "      <td>-11985384.00</td>\n",
       "      <td>11</td>\n",
       "      <td>Winter (Q4)</td>\n",
       "      <td>long</td>\n",
       "    </tr>\n",
       "    <tr>\n",
       "      <th>4</th>\n",
       "      <td>12 Strong</td>\n",
       "      <td>2018-01-19</td>\n",
       "      <td>35000000.00</td>\n",
       "      <td>45819713.00</td>\n",
       "      <td>71118378.00</td>\n",
       "      <td>130.00</td>\n",
       "      <td>[Action, Drama, History]</td>\n",
       "      <td>36118378.00</td>\n",
       "      <td>1</td>\n",
       "      <td>Spring (Q1)</td>\n",
       "      <td>long</td>\n",
       "    </tr>\n",
       "    <tr>\n",
       "      <th>5</th>\n",
       "      <td>12 Years a Slave</td>\n",
       "      <td>2013-10-18</td>\n",
       "      <td>20000000.00</td>\n",
       "      <td>56671993.00</td>\n",
       "      <td>181025343.00</td>\n",
       "      <td>134.00</td>\n",
       "      <td>[Biography, Drama, History]</td>\n",
       "      <td>161025343.00</td>\n",
       "      <td>10</td>\n",
       "      <td>Winter (Q4)</td>\n",
       "      <td>long</td>\n",
       "    </tr>\n",
       "    <tr>\n",
       "      <th>...</th>\n",
       "      <td>...</td>\n",
       "      <td>...</td>\n",
       "      <td>...</td>\n",
       "      <td>...</td>\n",
       "      <td>...</td>\n",
       "      <td>...</td>\n",
       "      <td>...</td>\n",
       "      <td>...</td>\n",
       "      <td>...</td>\n",
       "      <td>...</td>\n",
       "      <td>...</td>\n",
       "    </tr>\n",
       "    <tr>\n",
       "      <th>3807</th>\n",
       "      <td>Zoolander 2</td>\n",
       "      <td>2016-02-12</td>\n",
       "      <td>50000000.00</td>\n",
       "      <td>28848693.00</td>\n",
       "      <td>55348693.00</td>\n",
       "      <td>101.00</td>\n",
       "      <td>[Comedy]</td>\n",
       "      <td>5348693.00</td>\n",
       "      <td>2</td>\n",
       "      <td>Spring (Q1)</td>\n",
       "      <td>long</td>\n",
       "    </tr>\n",
       "    <tr>\n",
       "      <th>3808</th>\n",
       "      <td>Zoom</td>\n",
       "      <td>2006-08-11</td>\n",
       "      <td>35000000.00</td>\n",
       "      <td>11989328.00</td>\n",
       "      <td>12506188.00</td>\n",
       "      <td>96.00</td>\n",
       "      <td>[Animation, Comedy, Drama]</td>\n",
       "      <td>-22493812.00</td>\n",
       "      <td>8</td>\n",
       "      <td>Fall (Q3)</td>\n",
       "      <td>short</td>\n",
       "    </tr>\n",
       "    <tr>\n",
       "      <th>3812</th>\n",
       "      <td>Zootopia</td>\n",
       "      <td>2016-03-04</td>\n",
       "      <td>150000000.00</td>\n",
       "      <td>341268248.00</td>\n",
       "      <td>1019429616.00</td>\n",
       "      <td>108.00</td>\n",
       "      <td>[Adventure, Animation, Comedy]</td>\n",
       "      <td>869429616.00</td>\n",
       "      <td>3</td>\n",
       "      <td>Spring (Q1)</td>\n",
       "      <td>long</td>\n",
       "    </tr>\n",
       "    <tr>\n",
       "      <th>3813</th>\n",
       "      <td>Zulu</td>\n",
       "      <td>2013-12-31</td>\n",
       "      <td>16000000.00</td>\n",
       "      <td>0.00</td>\n",
       "      <td>1844228.00</td>\n",
       "      <td>110.00</td>\n",
       "      <td>[Crime, Drama, Thriller]</td>\n",
       "      <td>-14155772.00</td>\n",
       "      <td>12</td>\n",
       "      <td>Winter (Q4)</td>\n",
       "      <td>long</td>\n",
       "    </tr>\n",
       "    <tr>\n",
       "      <th>3814</th>\n",
       "      <td>xXx: Return of Xander Cage</td>\n",
       "      <td>2017-01-20</td>\n",
       "      <td>85000000.00</td>\n",
       "      <td>44898413.00</td>\n",
       "      <td>345033359.00</td>\n",
       "      <td>107.00</td>\n",
       "      <td>[Action, Adventure, Thriller]</td>\n",
       "      <td>260033359.00</td>\n",
       "      <td>1</td>\n",
       "      <td>Spring (Q1)</td>\n",
       "      <td>long</td>\n",
       "    </tr>\n",
       "  </tbody>\n",
       "</table>\n",
       "<p>2427 rows × 11 columns</p>\n",
       "</div>"
      ],
      "text/plain": [
       "                  original_title release_date  production_budget  \\\n",
       "0                        #Horror   2015-11-20         1500000.00   \n",
       "1            10 Cloverfield Lane   2016-03-11         5000000.00   \n",
       "2          10 Days in a Madhouse   2015-11-11        12000000.00   \n",
       "4                      12 Strong   2018-01-19        35000000.00   \n",
       "5               12 Years a Slave   2013-10-18        20000000.00   \n",
       "...                          ...          ...                ...   \n",
       "3807                 Zoolander 2   2016-02-12        50000000.00   \n",
       "3808                        Zoom   2006-08-11        35000000.00   \n",
       "3812                    Zootopia   2016-03-04       150000000.00   \n",
       "3813                        Zulu   2013-12-31        16000000.00   \n",
       "3814  xXx: Return of Xander Cage   2017-01-20        85000000.00   \n",
       "\n",
       "      domestic_gross  worldwide_gross  runtime_minutes  \\\n",
       "0               0.00             0.00           101.00   \n",
       "1        72082999.00     108286422.00           103.00   \n",
       "2           14616.00         14616.00           111.00   \n",
       "4        45819713.00      71118378.00           130.00   \n",
       "5        56671993.00     181025343.00           134.00   \n",
       "...              ...              ...              ...   \n",
       "3807     28848693.00      55348693.00           101.00   \n",
       "3808     11989328.00      12506188.00            96.00   \n",
       "3812    341268248.00    1019429616.00           108.00   \n",
       "3813            0.00       1844228.00           110.00   \n",
       "3814     44898413.00     345033359.00           107.00   \n",
       "\n",
       "                              genres   net_profit  release_month  \\\n",
       "0             [Crime, Drama, Horror]  -1500000.00             11   \n",
       "1           [Drama, Horror, Mystery] 103286422.00              3   \n",
       "2                            [Drama] -11985384.00             11   \n",
       "4           [Action, Drama, History]  36118378.00              1   \n",
       "5        [Biography, Drama, History] 161025343.00             10   \n",
       "...                              ...          ...            ...   \n",
       "3807                        [Comedy]   5348693.00              2   \n",
       "3808      [Animation, Comedy, Drama] -22493812.00              8   \n",
       "3812  [Adventure, Animation, Comedy] 869429616.00              3   \n",
       "3813        [Crime, Drama, Thriller] -14155772.00             12   \n",
       "3814   [Action, Adventure, Thriller] 260033359.00              1   \n",
       "\n",
       "     release_season movie_length  \n",
       "0       Winter (Q4)         long  \n",
       "1       Spring (Q1)         long  \n",
       "2       Winter (Q4)         long  \n",
       "4       Spring (Q1)         long  \n",
       "5       Winter (Q4)         long  \n",
       "...             ...          ...  \n",
       "3807    Spring (Q1)         long  \n",
       "3808      Fall (Q3)        short  \n",
       "3812    Spring (Q1)         long  \n",
       "3813    Winter (Q4)         long  \n",
       "3814    Spring (Q1)         long  \n",
       "\n",
       "[2427 rows x 11 columns]"
      ]
     },
     "execution_count": 33,
     "metadata": {},
     "output_type": "execute_result"
    }
   ],
   "source": [
    "# Create new column that classifies movies as 'long' or 'short' depending on whether they are above or below the median value of 100\n",
    "budgets_genre_df['movie_length'] = budgets_genre_df['runtime_minutes'].apply(lambda x: 'short' if x <100 else 'long')\n",
    "\n",
    "budgets_genre_df"
   ]
  },
  {
   "cell_type": "code",
   "execution_count": 34,
   "metadata": {},
   "outputs": [
    {
     "data": {
      "text/plain": [
       "Text(0.5, 1.0, 'Net Profit by Movie Length')"
      ]
     },
     "execution_count": 34,
     "metadata": {},
     "output_type": "execute_result"
    },
    {
     "data": {
      "image/png": "[encoded data removed]",
      "text/plain": [
       "<Figure size 864x720 with 1 Axes>"
      ]
     },
     "metadata": {},
     "output_type": "display_data"
    }
   ],
   "source": [
    "fig3 = plt.figure(figsize=(12,10))\n",
    "\n",
    "# Required for x-axis label order\n",
    "order_list = ['short', 'long']\n",
    "\n",
    "# Plot barchart\n",
    "ax3_top = sns.barplot(x = budgets_genre_df['movie_length'], y = budgets_genre_df['net_profit'], order=order_list, color = \"#00FFCC\", ci = None)\n",
    "\n",
    "# Format y-tick labels to display full dollar quantity\n",
    "tick2 = mtick.StrMethodFormatter(fmt)\n",
    "ax3_top.yaxis.set_major_formatter(tick) \n",
    "\n",
    "ax3_top.set_ylabel('Net Profit ($)', fontdict = {'fontsize':30},labelpad=25)\n",
    "ax3_top.set_xlabel('Movie Duration', fontdict = {'fontsize':30},labelpad=25)\n",
    "ax3_top.set_xticklabels(['Short (<100 m)', 'Long (>100 m)'])\n",
    "ax3_top.set_ylim(0, 100000000)\n",
    "plt.title('Net Profit by Movie Length', fontdict={'fontsize':30}, pad=30)"
   ]
  },
  {
   "cell_type": "markdown",
   "metadata": {},
   "source": [
    "# Conclusions\n",
    "\n",
    "The results of this data analysis project leads us to three key actionable insights to achieve financial success in the global movie industry:\n",
    "- **Target the summer months.** The chances of achieving superior results in both global revenues and net profits are markedly elevated in certain periods of the year. These four months exhibit unusually high sales numbers: May, June, July, and November. As a result, Microsoft should target these months for new movie releases as the data suggests consumer activity is elevated during these months. The months of August, September, and October should conversely be avoided unless a more advanced/targeted business strategy is being considered.\n",
    "- **Avoid non-narrative or non-fiction genres.** There are major discrepancies in box office returns between different genres. The most profitable genres are Animation, Adventure, Sci-Fi, Musical, Fantasy, Action, and Family. The least profitable are War, History, Documentary, Western and News. This analysis suggests Microsoft should release fiction movies with elaborate narratives, production sets and special effects, as they appear more likely to draw large audiences.\n",
    "- **Longer movies are more profitable.** Movies with a duration above the median (100 minutes) achieve returns almost twice that of shorter duration movies (under 100 minutes). The reason for this is not immediately obvious and should be explored in greater depth. Microsoft should focus on releasing longer-than-average features and should explore franchises with deep casts and long storylines that can be extended over multiple releases."
   ]
  },
  {
   "cell_type": "markdown",
   "metadata": {},
   "source": [
    "### Next Steps\n",
    "\n",
    "Further analyses could yield additional insights to further improve sales and profit projections:\n",
    "- **Conduct a more fine-grained analysis of release time data.** See if a pattern can be observed within the most profitable months, such as whether certain weeks within May, June, July, and November tend to outperform others, or if a mid-week release schedule is better than an end-of-week schedule.\n",
    "- **Further explore the relationship between release time, genre, and length.** For example, do the summer month movies perform better because they tend to represent the most profitable genres and have greater durations? \n",
    "- **Model impact of franchise status on profit measures.** Movie franchises, particularly those based on the most popular genres and released in the busy season, may exhibit greater profitability than one-off movies."
   ]
  }
 ],
 "metadata": {
  "kernelspec": {
   "display_name": "Python 3",
   "language": "python",
   "name": "python3"
  },
  "language_info": {
   "codemirror_mode": {
    "name": "ipython",
    "version": 3
   },
   "file_extension": ".py",
   "mimetype": "text/x-python",
   "name": "python",
   "nbconvert_exporter": "python",
   "pygments_lexer": "ipython3",
   "version": "3.8.5"
  }
 },
 "nbformat": 4,
 "nbformat_minor": 2
}
